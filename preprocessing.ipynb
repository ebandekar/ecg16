{
 "cells": [
  {
   "cell_type": "code",
   "execution_count": 1,
   "metadata": {},
   "outputs": [],
   "source": [
    "import tensorflow as tf\n",
    "from tensorflow.keras.preprocessing.image import ImageDataGenerator\n",
    "from PIL import Image, ImageOps\n",
    "import os\n"
   ]
  },
  {
   "cell_type": "code",
   "execution_count": 2,
   "metadata": {},
   "outputs": [],
   "source": [
    "root_dir = \"ECG_Image_Data\"\n",
    "subfolders = [\"train\", \"test\"]\n",
    "class_folders = [\"F\", \"M\", \"N\", \"Q\", \"S\", \"V\"]\n",
    "image_size = (224, 224)\n",
    "normalize_range = 1./255"
   ]
  },
  {
   "cell_type": "code",
   "execution_count": 3,
   "metadata": {},
   "outputs": [],
   "source": [
    "datagen = ImageDataGenerator(\n",
    "    rescale=normalize_range,\n",
    "    rotation_range=20,\n",
    "    width_shift_range=0.2,\n",
    "    height_shift_range=0.2,\n",
    "    shear_range=0.2,\n",
    "    zoom_range=0.2,\n",
    "    horizontal_flip=True,\n",
    "    fill_mode='nearest'\n",
    ")"
   ]
  },
  {
   "cell_type": "code",
   "execution_count": 4,
   "metadata": {},
   "outputs": [],
   "source": [
    "def preprocess_and_augment_in_place():\n",
    "    for subfolder in subfolders:\n",
    "        for class_folder in class_folders:\n",
    "            folder_path = os.path.join(root_dir, subfolder, class_folder)\n",
    "            print(f\"Processing images in: {folder_path}\")\n",
    "            \n",
    "            flow = datagen.flow_from_directory(\n",
    "                directory=os.path.join(root_dir, subfolder),\n",
    "                target_size=image_size,\n",
    "                batch_size=32,\n",
    "                class_mode='categorical',\n",
    "                classes=[class_folder],\n",
    "                shuffle=True,\n",
    "                seed=42\n",
    "            )\n",
    "            \n",
    "            for _ in range(len(flow)):\n",
    "                batch_images, batch_labels = next(flow)\n",
    "                for i in range(len(batch_images)):\n",
    "                    image = batch_images[i]\n",
    "                    image_path = os.path.join(folder_path, f\"{class_folder}_{i}.png\")\n",
    "                    tf.keras.preprocessing.image.save_img(image_path, image)\n"
   ]
  },
  {
   "cell_type": "code",
   "execution_count": 6,
   "metadata": {},
   "outputs": [
    {
     "name": "stdout",
     "output_type": "stream",
     "text": [
      "Starting preprocessing and augmentation...\n",
      "Processing images in: ECG_Image_Data\\train\\F\n",
      "Found 674 images belonging to 1 classes.\n",
      "Processing images in: ECG_Image_Data\\train\\M\n",
      "Found 8437 images belonging to 1 classes.\n",
      "Processing images in: ECG_Image_Data\\train\\N\n",
      "Found 75709 images belonging to 1 classes.\n",
      "Processing images in: ECG_Image_Data\\train\\Q\n",
      "Found 6431 images belonging to 1 classes.\n",
      "Processing images in: ECG_Image_Data\\train\\S\n",
      "Found 2223 images belonging to 1 classes.\n",
      "Processing images in: ECG_Image_Data\\train\\V\n",
      "Found 5789 images belonging to 1 classes.\n",
      "Processing images in: ECG_Image_Data\\test\\F\n",
      "Found 161 images belonging to 1 classes.\n",
      "Processing images in: ECG_Image_Data\\test\\M\n",
      "Found 2101 images belonging to 1 classes.\n",
      "Processing images in: ECG_Image_Data\\test\\N\n",
      "Found 18926 images belonging to 1 classes.\n",
      "Processing images in: ECG_Image_Data\\test\\Q\n",
      "Found 1608 images belonging to 1 classes.\n",
      "Processing images in: ECG_Image_Data\\test\\S\n",
      "Found 556 images belonging to 1 classes.\n",
      "Processing images in: ECG_Image_Data\\test\\V\n",
      "Found 1447 images belonging to 1 classes.\n",
      "Preprocessing and augmentation completed!\n"
     ]
    }
   ],
   "source": [
    "if __name__ == \"__main__\":\n",
    "    print(\"Starting preprocessing and augmentation...\")\n",
    "    preprocess_and_augment_in_place()\n",
    "    print(\"Preprocessing and augmentation completed!\")\n"
   ]
  },
  {
   "cell_type": "code",
   "execution_count": null,
   "metadata": {},
   "outputs": [],
   "source": []
  }
 ],
 "metadata": {
  "kernelspec": {
   "display_name": "ecg",
   "language": "python",
   "name": "python3"
  },
  "language_info": {
   "codemirror_mode": {
    "name": "ipython",
    "version": 3
   },
   "file_extension": ".py",
   "mimetype": "text/x-python",
   "name": "python",
   "nbconvert_exporter": "python",
   "pygments_lexer": "ipython3",
   "version": "3.10.16"
  }
 },
 "nbformat": 4,
 "nbformat_minor": 2
}
