{
 "cells": [
  {
   "cell_type": "markdown",
   "metadata": {},
   "source": [
    "### Imports"
   ]
  },
  {
   "cell_type": "code",
   "execution_count": 3,
   "metadata": {},
   "outputs": [],
   "source": [
    "# Imports\n",
    "import os\n",
    "import numpy as np\n",
    "from sklearn.linear_model import LogisticRegression\n",
    "from sklearn.metrics import accuracy_score\n",
    "from skmultilearn.adapt import MLARAM, MLkNN\n",
    "from skmultilearn.problem_transform import BinaryRelevance\n",
    "from sklearn.svm import SVC\n",
    "from scipy.stats import mode\n"
   ]
  },
  {
   "cell_type": "code",
   "execution_count": 2,
   "metadata": {},
   "outputs": [
    {
     "name": "stdout",
     "output_type": "stream",
     "text": [
      "Collecting scikit-multilearn\n",
      "  Downloading scikit_multilearn-0.2.0-py3-none-any.whl.metadata (6.0 kB)\n",
      "Downloading scikit_multilearn-0.2.0-py3-none-any.whl (89 kB)\n",
      "Installing collected packages: scikit-multilearn\n",
      "Successfully installed scikit-multilearn-0.2.0\n"
     ]
    }
   ],
   "source": [
    "!pip install scikit-multilearn"
   ]
  },
  {
   "cell_type": "markdown",
   "metadata": {},
   "source": [
    "### Load Data"
   ]
  },
  {
   "cell_type": "code",
   "execution_count": null,
   "metadata": {},
   "outputs": [],
   "source": [
    "# Load extracted features and labels\n",
    "root_dir = \"Extracted_Features\"\n",
    "train_features = np.load(os.path.join(root_dir, \"ResNet50_train_features.npy\"))\n",
    "train_labels = np.load(os.path.join(root_dir, \"ResNet50_train_labels.npy\"))\n",
    "test_features = np.load(os.path.join(root_dir, \"ResNet50_test_features.npy\"))\n",
    "test_labels = np.load(os.path.join(root_dir, \"ResNet50_test_labels.npy\"))\n",
    "\n",
    "print(\"Data loaded successfully.\")\n",
    "print(f\"Train Features: {train_features.shape}, Train Labels: {train_labels.shape}\")\n",
    "print(f\"Test Features: {test_features.shape}, Test Labels: {test_labels.shape}\")"
   ]
  },
  {
   "cell_type": "markdown",
   "metadata": {},
   "source": [
    "### Binary Relevance Classifier"
   ]
  },
  {
   "cell_type": "code",
   "execution_count": null,
   "metadata": {},
   "outputs": [],
   "source": [
    "# Binary Relevance Classifier\n",
    "def train_binary_relevance(train_features, train_labels, test_features, test_labels):\n",
    "    n_classes = train_labels.shape[1]\n",
    "    classifiers = []\n",
    "    predictions = []\n",
    "\n",
    "    for i in range(n_classes):\n",
    "        print(f\"Training Binary Classifier for Class {i+1}/{n_classes}...\")\n",
    "        clf = LogisticRegression()\n",
    "        clf.fit(train_features, train_labels[:, i])\n",
    "        classifiers.append(clf)\n",
    "        pred = clf.predict(test_features)\n",
    "        predictions.append(pred)\n",
    "\n",
    "    # Combine predictions for multi-label output\n",
    "    predictions = np.array(predictions).T\n",
    "    accuracy = accuracy_score(test_labels, predictions)\n",
    "    print(f\"Binary Relevance Classifier Accuracy: {accuracy:.4f}\")\n",
    "    return classifiers, predictions\n",
    "\n",
    "binary_classifiers, binary_predictions = train_binary_relevance(train_features, train_labels, test_features, test_labels)"
   ]
  },
  {
   "cell_type": "markdown",
   "metadata": {},
   "source": [
    "### MLARAM"
   ]
  },
  {
   "cell_type": "code",
   "execution_count": null,
   "metadata": {},
   "outputs": [],
   "source": [
    "# MLARAM Classifier\n",
    "def train_mlaram(train_features, train_labels, test_features, test_labels):\n",
    "    print(\"Training MLARAM Model...\")\n",
    "    mlaram = MLARAM()\n",
    "    mlaram.fit(train_features, train_labels)\n",
    "    predictions = mlaram.predict(test_features).toarray()\n",
    "    accuracy = accuracy_score(test_labels, predictions)\n",
    "    print(f\"MLARAM Accuracy: {accuracy:.4f}\")\n",
    "    return mlaram, predictions\n",
    "\n",
    "mlaram_model, mlaram_predictions = train_mlaram(train_features, train_labels, test_features, test_labels)"
   ]
  },
  {
   "cell_type": "markdown",
   "metadata": {},
   "source": [
    "### Multi-label SVM"
   ]
  },
  {
   "cell_type": "code",
   "execution_count": null,
   "metadata": {},
   "outputs": [],
   "source": [
    "# Multi-label SVM\n",
    "def train_multi_label_svm(train_features, train_labels, test_features, test_labels):\n",
    "    print(\"Training Multi-label SVM...\")\n",
    "    svm = BinaryRelevance(classifier=SVC(probability=True))\n",
    "    svm.fit(train_features, train_labels)\n",
    "    predictions = svm.predict(test_features).toarray()\n",
    "    accuracy = accuracy_score(test_labels, predictions)\n",
    "    print(f\"Multi-label SVM Accuracy: {accuracy:.4f}\")\n",
    "    return svm, predictions\n",
    "\n",
    "svm_model, svm_predictions = train_multi_label_svm(train_features, train_labels, test_features, test_labels)"
   ]
  },
  {
   "cell_type": "markdown",
   "metadata": {},
   "source": [
    "### Multi-label KNN"
   ]
  },
  {
   "cell_type": "code",
   "execution_count": null,
   "metadata": {},
   "outputs": [],
   "source": [
    "# Multi-label KNN\n",
    "def train_multi_label_knn(train_features, train_labels, test_features, test_labels, k=5):\n",
    "    print(\"Training Multi-label KNN...\")\n",
    "    knn = MLkNN(k=k)\n",
    "    knn.fit(train_features, train_labels)\n",
    "    predictions = knn.predict(test_features).toarray()\n",
    "    accuracy = accuracy_score(test_labels, predictions)\n",
    "    print(f\"Multi-label KNN Accuracy: {accuracy:.4f}\")\n",
    "    return knn, predictions\n",
    "\n",
    "knn_model, knn_predictions = train_multi_label_knn(train_features, train_labels, test_features, test_labels)\n"
   ]
  },
  {
   "cell_type": "markdown",
   "metadata": {},
   "source": [
    "### Multi-label SVM"
   ]
  },
  {
   "cell_type": "code",
   "execution_count": null,
   "metadata": {},
   "outputs": [],
   "source": [
    "# Multi-label SVM\n",
    "def train_multi_label_svm(train_features, train_labels, test_features, test_labels):\n",
    "    print(\"Training Multi-label SVM...\")\n",
    "    svm = BinaryRelevance(classifier=SVC(probability=True))\n",
    "    svm.fit(train_features, train_labels)\n",
    "    predictions = svm.predict(test_features).toarray()\n",
    "    accuracy = accuracy_score(test_labels, predictions)\n",
    "    print(f\"Multi-label SVM Accuracy: {accuracy:.4f}\")\n",
    "    return svm, predictions\n",
    "\n",
    "svm_model, svm_predictions = train_multi_label_svm(train_features, train_labels, test_features, test_labels)\n"
   ]
  },
  {
   "cell_type": "markdown",
   "metadata": {},
   "source": [
    "### Multi-label KNN"
   ]
  },
  {
   "cell_type": "code",
   "execution_count": null,
   "metadata": {},
   "outputs": [],
   "source": [
    "# Multi-label KNN\n",
    "def train_multi_label_knn(train_features, train_labels, test_features, test_labels, k=5):\n",
    "    print(\"Training Multi-label KNN...\")\n",
    "    knn = MLkNN(k=k)\n",
    "    knn.fit(train_features, train_labels)\n",
    "    predictions = knn.predict(test_features).toarray()\n",
    "    accuracy = accuracy_score(test_labels, predictions)\n",
    "    print(f\"Multi-label KNN Accuracy: {accuracy:.4f}\")\n",
    "    return knn, predictions\n",
    "\n",
    "knn_model, knn_predictions = train_multi_label_knn(train_features, train_labels, test_features, test_labels)\n"
   ]
  },
  {
   "cell_type": "markdown",
   "metadata": {},
   "source": [
    "### Majority Voting"
   ]
  },
  {
   "cell_type": "code",
   "execution_count": null,
   "metadata": {},
   "outputs": [],
   "source": [
    "# Majority Voting\n",
    "def majority_voting(*predictions):\n",
    "    combined_predictions = mode(predictions, axis=0)[0].squeeze()\n",
    "    return combined_predictions\n",
    "\n",
    "combined_majority = majority_voting(binary_predictions, mlaram_predictions, svm_predictions, knn_predictions)\n",
    "accuracy_majority = accuracy_score(test_labels, combined_majority)\n",
    "print(f\"Majority Voting Accuracy: {accuracy_majority:.4f}\")"
   ]
  },
  {
   "cell_type": "markdown",
   "metadata": {},
   "source": [
    "### Weighted Averaging\n"
   ]
  },
  {
   "cell_type": "code",
   "execution_count": null,
   "metadata": {},
   "outputs": [],
   "source": [
    "# Weighted Averaging\n",
    "def weighted_averaging(*predictions, weights):\n",
    "    weighted_sum = np.zeros_like(predictions[0], dtype=float)\n",
    "    for pred, weight in zip(predictions, weights):\n",
    "        weighted_sum += weight * pred\n",
    "    final_predictions = (weighted_sum > 0.5).astype(int)\n",
    "    return final_predictions\n",
    "\n",
    "weights = [0.3, 0.2, 0.3, 0.2]  # Example weights for the models\n",
    "combined_weighted = weighted_averaging(binary_predictions, mlaram_predictions, svm_predictions, knn_predictions, weights=weights)\n",
    "accuracy_weighted = accuracy_score(test_labels, combined_weighted)\n",
    "print(f\"Weighted Averaging Accuracy: {accuracy_weighted:.4f}\")"
   ]
  },
  {
   "cell_type": "markdown",
   "metadata": {},
   "source": [
    "### Summary"
   ]
  },
  {
   "cell_type": "code",
   "execution_count": null,
   "metadata": {},
   "outputs": [],
   "source": [
    "print(\"Summary of Model Accuracies:\")\n",
    "print(f\"Binary Relevance Classifier Accuracy: {accuracy_score(test_labels, binary_predictions):.4f}\")\n",
    "print(f\"MLARAM Accuracy: {accuracy_score(test_labels, mlaram_predictions):.4f}\")\n",
    "print(f\"Multi-label SVM Accuracy: {accuracy_score(test_labels, svm_predictions):.4f}\")\n",
    "print(f\"Multi-label KNN Accuracy: {accuracy_score(test_labels, knn_predictions):.4f}\")\n",
    "print(f\"Majority Voting Accuracy: {accuracy_majority:.4f}\")\n",
    "print(f\"Weighted Averaging Accuracy: {accuracy_weighted:.4f}\")"
   ]
  }
 ],
 "metadata": {
  "kernelspec": {
   "display_name": "ecg",
   "language": "python",
   "name": "python3"
  },
  "language_info": {
   "codemirror_mode": {
    "name": "ipython",
    "version": 3
   },
   "file_extension": ".py",
   "mimetype": "text/x-python",
   "name": "python",
   "nbconvert_exporter": "python",
   "pygments_lexer": "ipython3",
   "version": "3.10.13"
  }
 },
 "nbformat": 4,
 "nbformat_minor": 2
}
